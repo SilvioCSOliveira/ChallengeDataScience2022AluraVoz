{
  "nbformat": 4,
  "nbformat_minor": 0,
  "metadata": {
    "colab": {
      "name": "ChallengeDataScience2022AluraVoz.ipynb",
      "provenance": [],
      "collapsed_sections": [],
      "authorship_tag": "ABX9TyMNGRMaQBR9Z6gLKlYiuSyJ"
    },
    "kernelspec": {
      "name": "python3",
      "display_name": "Python 3"
    },
    "language_info": {
      "name": "python"
    }
  },
  "cells": [
    {
      "cell_type": "code",
      "execution_count": 1,
      "metadata": {
        "id": "1NN7fkT1zr99"
      },
      "outputs": [],
      "source": [
        "# Imports\n",
        "import pandas as pd\n",
        "import json\n",
        "from pandas import json_normalize\n",
        "import numpy as np\n",
        "# Configurações para melhor visualização dos dados\n",
        "pd.set_option('display.max_columns',100)\n",
        "pd.set_option('display.max_colwidth', None)"
      ]
    },
    {
      "cell_type": "markdown",
      "source": [
        "Entender quais informações o conjunto de dados possui"
      ],
      "metadata": {
        "id": "yHU6YsFBimAH"
      }
    },
    {
      "cell_type": "code",
      "source": [
        "# Carregar dados repositório git do desafio\n",
        "\n",
        "df = pd.read_json('https://raw.githubusercontent.com/SilvioCSOliveira/ChallengeDataScience2022AluraVoz/main/Telco-Customer-Churn.json')\n",
        "df.info()"
      ],
      "metadata": {
        "colab": {
          "base_uri": "https://localhost:8080/"
        },
        "id": "71iIZU150qrE",
        "outputId": "ab65eb8b-ab1a-47fb-a020-ffd89455c129"
      },
      "execution_count": 2,
      "outputs": [
        {
          "output_type": "stream",
          "name": "stdout",
          "text": [
            "<class 'pandas.core.frame.DataFrame'>\n",
            "RangeIndex: 7267 entries, 0 to 7266\n",
            "Data columns (total 6 columns):\n",
            " #   Column      Non-Null Count  Dtype \n",
            "---  ------      --------------  ----- \n",
            " 0   customerID  7267 non-null   object\n",
            " 1   Churn       7267 non-null   object\n",
            " 2   customer    7267 non-null   object\n",
            " 3   phone       7267 non-null   object\n",
            " 4   internet    7267 non-null   object\n",
            " 5   account     7267 non-null   object\n",
            "dtypes: object(6)\n",
            "memory usage: 340.8+ KB\n"
          ]
        }
      ]
    },
    {
      "cell_type": "code",
      "source": [
        "# Visualizar conteúdo do arquivo json \n",
        "df.head()"
      ],
      "metadata": {
        "colab": {
          "base_uri": "https://localhost:8080/",
          "height": 511
        },
        "id": "QjME8xzNWvi5",
        "outputId": "19114209-d2d8-46a0-d393-08640a0193a5"
      },
      "execution_count": 3,
      "outputs": [
        {
          "output_type": "execute_result",
          "data": {
            "text/plain": [
              "   customerID Churn  \\\n",
              "0  0002-ORFBO    No   \n",
              "1  0003-MKNFE    No   \n",
              "2  0004-TLHLJ   Yes   \n",
              "3  0011-IGKFF   Yes   \n",
              "4  0013-EXCHZ   Yes   \n",
              "\n",
              "                                                                                       customer  \\\n",
              "0  {'gender': 'Female', 'SeniorCitizen': 0, 'Partner': 'Yes', 'Dependents': 'Yes', 'tenure': 9}   \n",
              "1      {'gender': 'Male', 'SeniorCitizen': 0, 'Partner': 'No', 'Dependents': 'No', 'tenure': 9}   \n",
              "2      {'gender': 'Male', 'SeniorCitizen': 0, 'Partner': 'No', 'Dependents': 'No', 'tenure': 4}   \n",
              "3    {'gender': 'Male', 'SeniorCitizen': 1, 'Partner': 'Yes', 'Dependents': 'No', 'tenure': 13}   \n",
              "4   {'gender': 'Female', 'SeniorCitizen': 1, 'Partner': 'Yes', 'Dependents': 'No', 'tenure': 3}   \n",
              "\n",
              "                                             phone  \\\n",
              "0   {'PhoneService': 'Yes', 'MultipleLines': 'No'}   \n",
              "1  {'PhoneService': 'Yes', 'MultipleLines': 'Yes'}   \n",
              "2   {'PhoneService': 'Yes', 'MultipleLines': 'No'}   \n",
              "3   {'PhoneService': 'Yes', 'MultipleLines': 'No'}   \n",
              "4   {'PhoneService': 'Yes', 'MultipleLines': 'No'}   \n",
              "\n",
              "                                                                                                                                                                            internet  \\\n",
              "0           {'InternetService': 'DSL', 'OnlineSecurity': 'No', 'OnlineBackup': 'Yes', 'DeviceProtection': 'No', 'TechSupport': 'Yes', 'StreamingTV': 'Yes', 'StreamingMovies': 'No'}   \n",
              "1             {'InternetService': 'DSL', 'OnlineSecurity': 'No', 'OnlineBackup': 'No', 'DeviceProtection': 'No', 'TechSupport': 'No', 'StreamingTV': 'No', 'StreamingMovies': 'Yes'}   \n",
              "2     {'InternetService': 'Fiber optic', 'OnlineSecurity': 'No', 'OnlineBackup': 'No', 'DeviceProtection': 'Yes', 'TechSupport': 'No', 'StreamingTV': 'No', 'StreamingMovies': 'No'}   \n",
              "3  {'InternetService': 'Fiber optic', 'OnlineSecurity': 'No', 'OnlineBackup': 'Yes', 'DeviceProtection': 'Yes', 'TechSupport': 'No', 'StreamingTV': 'Yes', 'StreamingMovies': 'Yes'}   \n",
              "4    {'InternetService': 'Fiber optic', 'OnlineSecurity': 'No', 'OnlineBackup': 'No', 'DeviceProtection': 'No', 'TechSupport': 'Yes', 'StreamingTV': 'Yes', 'StreamingMovies': 'No'}   \n",
              "\n",
              "                                                                                                                                            account  \n",
              "0              {'Contract': 'One year', 'PaperlessBilling': 'Yes', 'PaymentMethod': 'Mailed check', 'Charges': {'Monthly': 65.6, 'Total': '593.3'}}  \n",
              "1         {'Contract': 'Month-to-month', 'PaperlessBilling': 'No', 'PaymentMethod': 'Mailed check', 'Charges': {'Monthly': 59.9, 'Total': '542.4'}}  \n",
              "2   {'Contract': 'Month-to-month', 'PaperlessBilling': 'Yes', 'PaymentMethod': 'Electronic check', 'Charges': {'Monthly': 73.9, 'Total': '280.85'}}  \n",
              "3  {'Contract': 'Month-to-month', 'PaperlessBilling': 'Yes', 'PaymentMethod': 'Electronic check', 'Charges': {'Monthly': 98.0, 'Total': '1237.85'}}  \n",
              "4        {'Contract': 'Month-to-month', 'PaperlessBilling': 'Yes', 'PaymentMethod': 'Mailed check', 'Charges': {'Monthly': 83.9, 'Total': '267.4'}}  "
            ],
            "text/html": [
              "\n",
              "  <div id=\"df-520d76d1-6c04-44fe-97aa-39705a5d29c8\">\n",
              "    <div class=\"colab-df-container\">\n",
              "      <div>\n",
              "<style scoped>\n",
              "    .dataframe tbody tr th:only-of-type {\n",
              "        vertical-align: middle;\n",
              "    }\n",
              "\n",
              "    .dataframe tbody tr th {\n",
              "        vertical-align: top;\n",
              "    }\n",
              "\n",
              "    .dataframe thead th {\n",
              "        text-align: right;\n",
              "    }\n",
              "</style>\n",
              "<table border=\"1\" class=\"dataframe\">\n",
              "  <thead>\n",
              "    <tr style=\"text-align: right;\">\n",
              "      <th></th>\n",
              "      <th>customerID</th>\n",
              "      <th>Churn</th>\n",
              "      <th>customer</th>\n",
              "      <th>phone</th>\n",
              "      <th>internet</th>\n",
              "      <th>account</th>\n",
              "    </tr>\n",
              "  </thead>\n",
              "  <tbody>\n",
              "    <tr>\n",
              "      <th>0</th>\n",
              "      <td>0002-ORFBO</td>\n",
              "      <td>No</td>\n",
              "      <td>{'gender': 'Female', 'SeniorCitizen': 0, 'Partner': 'Yes', 'Dependents': 'Yes', 'tenure': 9}</td>\n",
              "      <td>{'PhoneService': 'Yes', 'MultipleLines': 'No'}</td>\n",
              "      <td>{'InternetService': 'DSL', 'OnlineSecurity': 'No', 'OnlineBackup': 'Yes', 'DeviceProtection': 'No', 'TechSupport': 'Yes', 'StreamingTV': 'Yes', 'StreamingMovies': 'No'}</td>\n",
              "      <td>{'Contract': 'One year', 'PaperlessBilling': 'Yes', 'PaymentMethod': 'Mailed check', 'Charges': {'Monthly': 65.6, 'Total': '593.3'}}</td>\n",
              "    </tr>\n",
              "    <tr>\n",
              "      <th>1</th>\n",
              "      <td>0003-MKNFE</td>\n",
              "      <td>No</td>\n",
              "      <td>{'gender': 'Male', 'SeniorCitizen': 0, 'Partner': 'No', 'Dependents': 'No', 'tenure': 9}</td>\n",
              "      <td>{'PhoneService': 'Yes', 'MultipleLines': 'Yes'}</td>\n",
              "      <td>{'InternetService': 'DSL', 'OnlineSecurity': 'No', 'OnlineBackup': 'No', 'DeviceProtection': 'No', 'TechSupport': 'No', 'StreamingTV': 'No', 'StreamingMovies': 'Yes'}</td>\n",
              "      <td>{'Contract': 'Month-to-month', 'PaperlessBilling': 'No', 'PaymentMethod': 'Mailed check', 'Charges': {'Monthly': 59.9, 'Total': '542.4'}}</td>\n",
              "    </tr>\n",
              "    <tr>\n",
              "      <th>2</th>\n",
              "      <td>0004-TLHLJ</td>\n",
              "      <td>Yes</td>\n",
              "      <td>{'gender': 'Male', 'SeniorCitizen': 0, 'Partner': 'No', 'Dependents': 'No', 'tenure': 4}</td>\n",
              "      <td>{'PhoneService': 'Yes', 'MultipleLines': 'No'}</td>\n",
              "      <td>{'InternetService': 'Fiber optic', 'OnlineSecurity': 'No', 'OnlineBackup': 'No', 'DeviceProtection': 'Yes', 'TechSupport': 'No', 'StreamingTV': 'No', 'StreamingMovies': 'No'}</td>\n",
              "      <td>{'Contract': 'Month-to-month', 'PaperlessBilling': 'Yes', 'PaymentMethod': 'Electronic check', 'Charges': {'Monthly': 73.9, 'Total': '280.85'}}</td>\n",
              "    </tr>\n",
              "    <tr>\n",
              "      <th>3</th>\n",
              "      <td>0011-IGKFF</td>\n",
              "      <td>Yes</td>\n",
              "      <td>{'gender': 'Male', 'SeniorCitizen': 1, 'Partner': 'Yes', 'Dependents': 'No', 'tenure': 13}</td>\n",
              "      <td>{'PhoneService': 'Yes', 'MultipleLines': 'No'}</td>\n",
              "      <td>{'InternetService': 'Fiber optic', 'OnlineSecurity': 'No', 'OnlineBackup': 'Yes', 'DeviceProtection': 'Yes', 'TechSupport': 'No', 'StreamingTV': 'Yes', 'StreamingMovies': 'Yes'}</td>\n",
              "      <td>{'Contract': 'Month-to-month', 'PaperlessBilling': 'Yes', 'PaymentMethod': 'Electronic check', 'Charges': {'Monthly': 98.0, 'Total': '1237.85'}}</td>\n",
              "    </tr>\n",
              "    <tr>\n",
              "      <th>4</th>\n",
              "      <td>0013-EXCHZ</td>\n",
              "      <td>Yes</td>\n",
              "      <td>{'gender': 'Female', 'SeniorCitizen': 1, 'Partner': 'Yes', 'Dependents': 'No', 'tenure': 3}</td>\n",
              "      <td>{'PhoneService': 'Yes', 'MultipleLines': 'No'}</td>\n",
              "      <td>{'InternetService': 'Fiber optic', 'OnlineSecurity': 'No', 'OnlineBackup': 'No', 'DeviceProtection': 'No', 'TechSupport': 'Yes', 'StreamingTV': 'Yes', 'StreamingMovies': 'No'}</td>\n",
              "      <td>{'Contract': 'Month-to-month', 'PaperlessBilling': 'Yes', 'PaymentMethod': 'Mailed check', 'Charges': {'Monthly': 83.9, 'Total': '267.4'}}</td>\n",
              "    </tr>\n",
              "  </tbody>\n",
              "</table>\n",
              "</div>\n",
              "      <button class=\"colab-df-convert\" onclick=\"convertToInteractive('df-520d76d1-6c04-44fe-97aa-39705a5d29c8')\"\n",
              "              title=\"Convert this dataframe to an interactive table.\"\n",
              "              style=\"display:none;\">\n",
              "        \n",
              "  <svg xmlns=\"http://www.w3.org/2000/svg\" height=\"24px\"viewBox=\"0 0 24 24\"\n",
              "       width=\"24px\">\n",
              "    <path d=\"M0 0h24v24H0V0z\" fill=\"none\"/>\n",
              "    <path d=\"M18.56 5.44l.94 2.06.94-2.06 2.06-.94-2.06-.94-.94-2.06-.94 2.06-2.06.94zm-11 1L8.5 8.5l.94-2.06 2.06-.94-2.06-.94L8.5 2.5l-.94 2.06-2.06.94zm10 10l.94 2.06.94-2.06 2.06-.94-2.06-.94-.94-2.06-.94 2.06-2.06.94z\"/><path d=\"M17.41 7.96l-1.37-1.37c-.4-.4-.92-.59-1.43-.59-.52 0-1.04.2-1.43.59L10.3 9.45l-7.72 7.72c-.78.78-.78 2.05 0 2.83L4 21.41c.39.39.9.59 1.41.59.51 0 1.02-.2 1.41-.59l7.78-7.78 2.81-2.81c.8-.78.8-2.07 0-2.86zM5.41 20L4 18.59l7.72-7.72 1.47 1.35L5.41 20z\"/>\n",
              "  </svg>\n",
              "      </button>\n",
              "      \n",
              "  <style>\n",
              "    .colab-df-container {\n",
              "      display:flex;\n",
              "      flex-wrap:wrap;\n",
              "      gap: 12px;\n",
              "    }\n",
              "\n",
              "    .colab-df-convert {\n",
              "      background-color: #E8F0FE;\n",
              "      border: none;\n",
              "      border-radius: 50%;\n",
              "      cursor: pointer;\n",
              "      display: none;\n",
              "      fill: #1967D2;\n",
              "      height: 32px;\n",
              "      padding: 0 0 0 0;\n",
              "      width: 32px;\n",
              "    }\n",
              "\n",
              "    .colab-df-convert:hover {\n",
              "      background-color: #E2EBFA;\n",
              "      box-shadow: 0px 1px 2px rgba(60, 64, 67, 0.3), 0px 1px 3px 1px rgba(60, 64, 67, 0.15);\n",
              "      fill: #174EA6;\n",
              "    }\n",
              "\n",
              "    [theme=dark] .colab-df-convert {\n",
              "      background-color: #3B4455;\n",
              "      fill: #D2E3FC;\n",
              "    }\n",
              "\n",
              "    [theme=dark] .colab-df-convert:hover {\n",
              "      background-color: #434B5C;\n",
              "      box-shadow: 0px 1px 3px 1px rgba(0, 0, 0, 0.15);\n",
              "      filter: drop-shadow(0px 1px 2px rgba(0, 0, 0, 0.3));\n",
              "      fill: #FFFFFF;\n",
              "    }\n",
              "  </style>\n",
              "\n",
              "      <script>\n",
              "        const buttonEl =\n",
              "          document.querySelector('#df-520d76d1-6c04-44fe-97aa-39705a5d29c8 button.colab-df-convert');\n",
              "        buttonEl.style.display =\n",
              "          google.colab.kernel.accessAllowed ? 'block' : 'none';\n",
              "\n",
              "        async function convertToInteractive(key) {\n",
              "          const element = document.querySelector('#df-520d76d1-6c04-44fe-97aa-39705a5d29c8');\n",
              "          const dataTable =\n",
              "            await google.colab.kernel.invokeFunction('convertToInteractive',\n",
              "                                                     [key], {});\n",
              "          if (!dataTable) return;\n",
              "\n",
              "          const docLinkHtml = 'Like what you see? Visit the ' +\n",
              "            '<a target=\"_blank\" href=https://colab.research.google.com/notebooks/data_table.ipynb>data table notebook</a>'\n",
              "            + ' to learn more about interactive tables.';\n",
              "          element.innerHTML = '';\n",
              "          dataTable['output_type'] = 'display_data';\n",
              "          await google.colab.output.renderOutput(dataTable, element);\n",
              "          const docLink = document.createElement('div');\n",
              "          docLink.innerHTML = docLinkHtml;\n",
              "          element.appendChild(docLink);\n",
              "        }\n",
              "      </script>\n",
              "    </div>\n",
              "  </div>\n",
              "  "
            ]
          },
          "metadata": {},
          "execution_count": 3
        }
      ]
    },
    {
      "cell_type": "code",
      "source": [
        "# 'serializar' campos que possuem jsons no seu conteúdo,  customer phone internet e account\n",
        "df_customer = pd.json_normalize(data = df.customer) \n",
        "df_phone = pd.json_normalize(data = df.phone) \n",
        "df_internet = pd.json_normalize(data = df.internet) \n",
        "df_account = pd.json_normalize(data = df.account) "
      ],
      "metadata": {
        "id": "0AzxYbcLK0TH"
      },
      "execution_count": 4,
      "outputs": []
    },
    {
      "cell_type": "code",
      "source": [
        "# 'Juntar' campos jsons 'serializados' e retirar campos que possuem jsons no seu conteúdo\n",
        "df_telco_customer = pd.concat([df, df_customer,df_phone,df_internet,df_account], axis = 1)\n",
        "df_telco_customer = df_telco_customer.drop(columns = ['phone','customer','internet','account'])\n",
        "\n",
        "df_telco_customer.head(1)"
      ],
      "metadata": {
        "colab": {
          "base_uri": "https://localhost:8080/",
          "height": 162
        },
        "id": "VUJtdJV8TMOA",
        "outputId": "b7828069-2efd-42a3-a9d6-ca9903dd9c35"
      },
      "execution_count": 5,
      "outputs": [
        {
          "output_type": "execute_result",
          "data": {
            "text/plain": [
              "   customerID Churn  gender  SeniorCitizen Partner Dependents  tenure  \\\n",
              "0  0002-ORFBO    No  Female              0     Yes        Yes       9   \n",
              "\n",
              "  PhoneService MultipleLines InternetService OnlineSecurity OnlineBackup  \\\n",
              "0          Yes            No             DSL             No          Yes   \n",
              "\n",
              "  DeviceProtection TechSupport StreamingTV StreamingMovies  Contract  \\\n",
              "0               No         Yes         Yes              No  One year   \n",
              "\n",
              "  PaperlessBilling PaymentMethod  Charges.Monthly Charges.Total  \n",
              "0              Yes  Mailed check             65.6         593.3  "
            ],
            "text/html": [
              "\n",
              "  <div id=\"df-4be3534b-3e32-4ffe-a2da-9d3232fd660d\">\n",
              "    <div class=\"colab-df-container\">\n",
              "      <div>\n",
              "<style scoped>\n",
              "    .dataframe tbody tr th:only-of-type {\n",
              "        vertical-align: middle;\n",
              "    }\n",
              "\n",
              "    .dataframe tbody tr th {\n",
              "        vertical-align: top;\n",
              "    }\n",
              "\n",
              "    .dataframe thead th {\n",
              "        text-align: right;\n",
              "    }\n",
              "</style>\n",
              "<table border=\"1\" class=\"dataframe\">\n",
              "  <thead>\n",
              "    <tr style=\"text-align: right;\">\n",
              "      <th></th>\n",
              "      <th>customerID</th>\n",
              "      <th>Churn</th>\n",
              "      <th>gender</th>\n",
              "      <th>SeniorCitizen</th>\n",
              "      <th>Partner</th>\n",
              "      <th>Dependents</th>\n",
              "      <th>tenure</th>\n",
              "      <th>PhoneService</th>\n",
              "      <th>MultipleLines</th>\n",
              "      <th>InternetService</th>\n",
              "      <th>OnlineSecurity</th>\n",
              "      <th>OnlineBackup</th>\n",
              "      <th>DeviceProtection</th>\n",
              "      <th>TechSupport</th>\n",
              "      <th>StreamingTV</th>\n",
              "      <th>StreamingMovies</th>\n",
              "      <th>Contract</th>\n",
              "      <th>PaperlessBilling</th>\n",
              "      <th>PaymentMethod</th>\n",
              "      <th>Charges.Monthly</th>\n",
              "      <th>Charges.Total</th>\n",
              "    </tr>\n",
              "  </thead>\n",
              "  <tbody>\n",
              "    <tr>\n",
              "      <th>0</th>\n",
              "      <td>0002-ORFBO</td>\n",
              "      <td>No</td>\n",
              "      <td>Female</td>\n",
              "      <td>0</td>\n",
              "      <td>Yes</td>\n",
              "      <td>Yes</td>\n",
              "      <td>9</td>\n",
              "      <td>Yes</td>\n",
              "      <td>No</td>\n",
              "      <td>DSL</td>\n",
              "      <td>No</td>\n",
              "      <td>Yes</td>\n",
              "      <td>No</td>\n",
              "      <td>Yes</td>\n",
              "      <td>Yes</td>\n",
              "      <td>No</td>\n",
              "      <td>One year</td>\n",
              "      <td>Yes</td>\n",
              "      <td>Mailed check</td>\n",
              "      <td>65.6</td>\n",
              "      <td>593.3</td>\n",
              "    </tr>\n",
              "  </tbody>\n",
              "</table>\n",
              "</div>\n",
              "      <button class=\"colab-df-convert\" onclick=\"convertToInteractive('df-4be3534b-3e32-4ffe-a2da-9d3232fd660d')\"\n",
              "              title=\"Convert this dataframe to an interactive table.\"\n",
              "              style=\"display:none;\">\n",
              "        \n",
              "  <svg xmlns=\"http://www.w3.org/2000/svg\" height=\"24px\"viewBox=\"0 0 24 24\"\n",
              "       width=\"24px\">\n",
              "    <path d=\"M0 0h24v24H0V0z\" fill=\"none\"/>\n",
              "    <path d=\"M18.56 5.44l.94 2.06.94-2.06 2.06-.94-2.06-.94-.94-2.06-.94 2.06-2.06.94zm-11 1L8.5 8.5l.94-2.06 2.06-.94-2.06-.94L8.5 2.5l-.94 2.06-2.06.94zm10 10l.94 2.06.94-2.06 2.06-.94-2.06-.94-.94-2.06-.94 2.06-2.06.94z\"/><path d=\"M17.41 7.96l-1.37-1.37c-.4-.4-.92-.59-1.43-.59-.52 0-1.04.2-1.43.59L10.3 9.45l-7.72 7.72c-.78.78-.78 2.05 0 2.83L4 21.41c.39.39.9.59 1.41.59.51 0 1.02-.2 1.41-.59l7.78-7.78 2.81-2.81c.8-.78.8-2.07 0-2.86zM5.41 20L4 18.59l7.72-7.72 1.47 1.35L5.41 20z\"/>\n",
              "  </svg>\n",
              "      </button>\n",
              "      \n",
              "  <style>\n",
              "    .colab-df-container {\n",
              "      display:flex;\n",
              "      flex-wrap:wrap;\n",
              "      gap: 12px;\n",
              "    }\n",
              "\n",
              "    .colab-df-convert {\n",
              "      background-color: #E8F0FE;\n",
              "      border: none;\n",
              "      border-radius: 50%;\n",
              "      cursor: pointer;\n",
              "      display: none;\n",
              "      fill: #1967D2;\n",
              "      height: 32px;\n",
              "      padding: 0 0 0 0;\n",
              "      width: 32px;\n",
              "    }\n",
              "\n",
              "    .colab-df-convert:hover {\n",
              "      background-color: #E2EBFA;\n",
              "      box-shadow: 0px 1px 2px rgba(60, 64, 67, 0.3), 0px 1px 3px 1px rgba(60, 64, 67, 0.15);\n",
              "      fill: #174EA6;\n",
              "    }\n",
              "\n",
              "    [theme=dark] .colab-df-convert {\n",
              "      background-color: #3B4455;\n",
              "      fill: #D2E3FC;\n",
              "    }\n",
              "\n",
              "    [theme=dark] .colab-df-convert:hover {\n",
              "      background-color: #434B5C;\n",
              "      box-shadow: 0px 1px 3px 1px rgba(0, 0, 0, 0.15);\n",
              "      filter: drop-shadow(0px 1px 2px rgba(0, 0, 0, 0.3));\n",
              "      fill: #FFFFFF;\n",
              "    }\n",
              "  </style>\n",
              "\n",
              "      <script>\n",
              "        const buttonEl =\n",
              "          document.querySelector('#df-4be3534b-3e32-4ffe-a2da-9d3232fd660d button.colab-df-convert');\n",
              "        buttonEl.style.display =\n",
              "          google.colab.kernel.accessAllowed ? 'block' : 'none';\n",
              "\n",
              "        async function convertToInteractive(key) {\n",
              "          const element = document.querySelector('#df-4be3534b-3e32-4ffe-a2da-9d3232fd660d');\n",
              "          const dataTable =\n",
              "            await google.colab.kernel.invokeFunction('convertToInteractive',\n",
              "                                                     [key], {});\n",
              "          if (!dataTable) return;\n",
              "\n",
              "          const docLinkHtml = 'Like what you see? Visit the ' +\n",
              "            '<a target=\"_blank\" href=https://colab.research.google.com/notebooks/data_table.ipynb>data table notebook</a>'\n",
              "            + ' to learn more about interactive tables.';\n",
              "          element.innerHTML = '';\n",
              "          dataTable['output_type'] = 'display_data';\n",
              "          await google.colab.output.renderOutput(dataTable, element);\n",
              "          const docLink = document.createElement('div');\n",
              "          docLink.innerHTML = docLinkHtml;\n",
              "          element.appendChild(docLink);\n",
              "        }\n",
              "      </script>\n",
              "    </div>\n",
              "  </div>\n",
              "  "
            ]
          },
          "metadata": {},
          "execution_count": 5
        }
      ]
    },
    {
      "cell_type": "markdown",
      "source": [
        "Traduzir as colunas"
      ],
      "metadata": {
        "id": "HscXBRfjPGN3"
      }
    },
    {
      "cell_type": "code",
      "source": [
        "df_telco_customer.rename(columns={'customerID' : 'IdCliente',\t\n",
        "'Churn': 'ClienteCancelado',\n",
        "'gender' : 'Genero'\t,\n",
        "'SeniorCitizen' : 'Maior65',\n",
        "'Partner' : 'Parceiro(a)',\n",
        "'Dependents': 'Dependentes',\n",
        "'tenure' : 'TempoContrato(m)',\n",
        "'PhoneService' : 'ServiçoTelefônico',\n",
        "'MultipleLines' : 'MultiplasLinhas',\n",
        "'InternetService' : 'ServicoInternet',\n",
        "'OnlineSecurity' : 'AdicinalSegurancaOnline',\n",
        "'OnlineBackup' : 'AdicionalBackup',\n",
        "'DeviceProtection' : 'AdicionalProtDispositivo',\n",
        "'TechSupport' : 'AdicionalSuporte',\n",
        "'StreamingTV': 'AssinaturaTv',\n",
        "'StreamingMovies' : 'AssinaturaFilmes',\n",
        "'Contract' : 'TipoContrato',\n",
        "'PaperlessBilling': 'FaturaDigital',\n",
        "'PaymentMethod': 'FormaPagamento',\n",
        "'Charges.Monthly': 'GastoMensal' ,\n",
        "'Charges.Total': 'GastoTotal'}, inplace=True)\n",
        "\n",
        "df_telco_customer.head(5)\n"
      ],
      "metadata": {
        "colab": {
          "base_uri": "https://localhost:8080/",
          "height": 357
        },
        "id": "p4pksYATPD40",
        "outputId": "1b709224-4f31-4ef3-efb5-e3bc73f3d3bc"
      },
      "execution_count": 6,
      "outputs": [
        {
          "output_type": "execute_result",
          "data": {
            "text/plain": [
              "    IdCliente ClienteCancelado  Genero  Maior65 Parceiro(a) Dependentes  \\\n",
              "0  0002-ORFBO               No  Female        0         Yes         Yes   \n",
              "1  0003-MKNFE               No    Male        0          No          No   \n",
              "2  0004-TLHLJ              Yes    Male        0          No          No   \n",
              "3  0011-IGKFF              Yes    Male        1         Yes          No   \n",
              "4  0013-EXCHZ              Yes  Female        1         Yes          No   \n",
              "\n",
              "   TempoContrato(m) ServiçoTelefônico MultiplasLinhas ServicoInternet  \\\n",
              "0                 9               Yes              No             DSL   \n",
              "1                 9               Yes             Yes             DSL   \n",
              "2                 4               Yes              No     Fiber optic   \n",
              "3                13               Yes              No     Fiber optic   \n",
              "4                 3               Yes              No     Fiber optic   \n",
              "\n",
              "  AdicinalSegurancaOnline AdicionalBackup AdicionalProtDispositivo  \\\n",
              "0                      No             Yes                       No   \n",
              "1                      No              No                       No   \n",
              "2                      No              No                      Yes   \n",
              "3                      No             Yes                      Yes   \n",
              "4                      No              No                       No   \n",
              "\n",
              "  AdicionalSuporte AssinaturaTv AssinaturaFilmes    TipoContrato  \\\n",
              "0              Yes          Yes               No        One year   \n",
              "1               No           No              Yes  Month-to-month   \n",
              "2               No           No               No  Month-to-month   \n",
              "3               No          Yes              Yes  Month-to-month   \n",
              "4              Yes          Yes               No  Month-to-month   \n",
              "\n",
              "  FaturaDigital    FormaPagamento  GastoMensal GastoTotal  \n",
              "0           Yes      Mailed check         65.6      593.3  \n",
              "1            No      Mailed check         59.9      542.4  \n",
              "2           Yes  Electronic check         73.9     280.85  \n",
              "3           Yes  Electronic check         98.0    1237.85  \n",
              "4           Yes      Mailed check         83.9      267.4  "
            ],
            "text/html": [
              "\n",
              "  <div id=\"df-4fa4bf29-ce8b-4140-a429-70136829a019\">\n",
              "    <div class=\"colab-df-container\">\n",
              "      <div>\n",
              "<style scoped>\n",
              "    .dataframe tbody tr th:only-of-type {\n",
              "        vertical-align: middle;\n",
              "    }\n",
              "\n",
              "    .dataframe tbody tr th {\n",
              "        vertical-align: top;\n",
              "    }\n",
              "\n",
              "    .dataframe thead th {\n",
              "        text-align: right;\n",
              "    }\n",
              "</style>\n",
              "<table border=\"1\" class=\"dataframe\">\n",
              "  <thead>\n",
              "    <tr style=\"text-align: right;\">\n",
              "      <th></th>\n",
              "      <th>IdCliente</th>\n",
              "      <th>ClienteCancelado</th>\n",
              "      <th>Genero</th>\n",
              "      <th>Maior65</th>\n",
              "      <th>Parceiro(a)</th>\n",
              "      <th>Dependentes</th>\n",
              "      <th>TempoContrato(m)</th>\n",
              "      <th>ServiçoTelefônico</th>\n",
              "      <th>MultiplasLinhas</th>\n",
              "      <th>ServicoInternet</th>\n",
              "      <th>AdicinalSegurancaOnline</th>\n",
              "      <th>AdicionalBackup</th>\n",
              "      <th>AdicionalProtDispositivo</th>\n",
              "      <th>AdicionalSuporte</th>\n",
              "      <th>AssinaturaTv</th>\n",
              "      <th>AssinaturaFilmes</th>\n",
              "      <th>TipoContrato</th>\n",
              "      <th>FaturaDigital</th>\n",
              "      <th>FormaPagamento</th>\n",
              "      <th>GastoMensal</th>\n",
              "      <th>GastoTotal</th>\n",
              "    </tr>\n",
              "  </thead>\n",
              "  <tbody>\n",
              "    <tr>\n",
              "      <th>0</th>\n",
              "      <td>0002-ORFBO</td>\n",
              "      <td>No</td>\n",
              "      <td>Female</td>\n",
              "      <td>0</td>\n",
              "      <td>Yes</td>\n",
              "      <td>Yes</td>\n",
              "      <td>9</td>\n",
              "      <td>Yes</td>\n",
              "      <td>No</td>\n",
              "      <td>DSL</td>\n",
              "      <td>No</td>\n",
              "      <td>Yes</td>\n",
              "      <td>No</td>\n",
              "      <td>Yes</td>\n",
              "      <td>Yes</td>\n",
              "      <td>No</td>\n",
              "      <td>One year</td>\n",
              "      <td>Yes</td>\n",
              "      <td>Mailed check</td>\n",
              "      <td>65.6</td>\n",
              "      <td>593.3</td>\n",
              "    </tr>\n",
              "    <tr>\n",
              "      <th>1</th>\n",
              "      <td>0003-MKNFE</td>\n",
              "      <td>No</td>\n",
              "      <td>Male</td>\n",
              "      <td>0</td>\n",
              "      <td>No</td>\n",
              "      <td>No</td>\n",
              "      <td>9</td>\n",
              "      <td>Yes</td>\n",
              "      <td>Yes</td>\n",
              "      <td>DSL</td>\n",
              "      <td>No</td>\n",
              "      <td>No</td>\n",
              "      <td>No</td>\n",
              "      <td>No</td>\n",
              "      <td>No</td>\n",
              "      <td>Yes</td>\n",
              "      <td>Month-to-month</td>\n",
              "      <td>No</td>\n",
              "      <td>Mailed check</td>\n",
              "      <td>59.9</td>\n",
              "      <td>542.4</td>\n",
              "    </tr>\n",
              "    <tr>\n",
              "      <th>2</th>\n",
              "      <td>0004-TLHLJ</td>\n",
              "      <td>Yes</td>\n",
              "      <td>Male</td>\n",
              "      <td>0</td>\n",
              "      <td>No</td>\n",
              "      <td>No</td>\n",
              "      <td>4</td>\n",
              "      <td>Yes</td>\n",
              "      <td>No</td>\n",
              "      <td>Fiber optic</td>\n",
              "      <td>No</td>\n",
              "      <td>No</td>\n",
              "      <td>Yes</td>\n",
              "      <td>No</td>\n",
              "      <td>No</td>\n",
              "      <td>No</td>\n",
              "      <td>Month-to-month</td>\n",
              "      <td>Yes</td>\n",
              "      <td>Electronic check</td>\n",
              "      <td>73.9</td>\n",
              "      <td>280.85</td>\n",
              "    </tr>\n",
              "    <tr>\n",
              "      <th>3</th>\n",
              "      <td>0011-IGKFF</td>\n",
              "      <td>Yes</td>\n",
              "      <td>Male</td>\n",
              "      <td>1</td>\n",
              "      <td>Yes</td>\n",
              "      <td>No</td>\n",
              "      <td>13</td>\n",
              "      <td>Yes</td>\n",
              "      <td>No</td>\n",
              "      <td>Fiber optic</td>\n",
              "      <td>No</td>\n",
              "      <td>Yes</td>\n",
              "      <td>Yes</td>\n",
              "      <td>No</td>\n",
              "      <td>Yes</td>\n",
              "      <td>Yes</td>\n",
              "      <td>Month-to-month</td>\n",
              "      <td>Yes</td>\n",
              "      <td>Electronic check</td>\n",
              "      <td>98.0</td>\n",
              "      <td>1237.85</td>\n",
              "    </tr>\n",
              "    <tr>\n",
              "      <th>4</th>\n",
              "      <td>0013-EXCHZ</td>\n",
              "      <td>Yes</td>\n",
              "      <td>Female</td>\n",
              "      <td>1</td>\n",
              "      <td>Yes</td>\n",
              "      <td>No</td>\n",
              "      <td>3</td>\n",
              "      <td>Yes</td>\n",
              "      <td>No</td>\n",
              "      <td>Fiber optic</td>\n",
              "      <td>No</td>\n",
              "      <td>No</td>\n",
              "      <td>No</td>\n",
              "      <td>Yes</td>\n",
              "      <td>Yes</td>\n",
              "      <td>No</td>\n",
              "      <td>Month-to-month</td>\n",
              "      <td>Yes</td>\n",
              "      <td>Mailed check</td>\n",
              "      <td>83.9</td>\n",
              "      <td>267.4</td>\n",
              "    </tr>\n",
              "  </tbody>\n",
              "</table>\n",
              "</div>\n",
              "      <button class=\"colab-df-convert\" onclick=\"convertToInteractive('df-4fa4bf29-ce8b-4140-a429-70136829a019')\"\n",
              "              title=\"Convert this dataframe to an interactive table.\"\n",
              "              style=\"display:none;\">\n",
              "        \n",
              "  <svg xmlns=\"http://www.w3.org/2000/svg\" height=\"24px\"viewBox=\"0 0 24 24\"\n",
              "       width=\"24px\">\n",
              "    <path d=\"M0 0h24v24H0V0z\" fill=\"none\"/>\n",
              "    <path d=\"M18.56 5.44l.94 2.06.94-2.06 2.06-.94-2.06-.94-.94-2.06-.94 2.06-2.06.94zm-11 1L8.5 8.5l.94-2.06 2.06-.94-2.06-.94L8.5 2.5l-.94 2.06-2.06.94zm10 10l.94 2.06.94-2.06 2.06-.94-2.06-.94-.94-2.06-.94 2.06-2.06.94z\"/><path d=\"M17.41 7.96l-1.37-1.37c-.4-.4-.92-.59-1.43-.59-.52 0-1.04.2-1.43.59L10.3 9.45l-7.72 7.72c-.78.78-.78 2.05 0 2.83L4 21.41c.39.39.9.59 1.41.59.51 0 1.02-.2 1.41-.59l7.78-7.78 2.81-2.81c.8-.78.8-2.07 0-2.86zM5.41 20L4 18.59l7.72-7.72 1.47 1.35L5.41 20z\"/>\n",
              "  </svg>\n",
              "      </button>\n",
              "      \n",
              "  <style>\n",
              "    .colab-df-container {\n",
              "      display:flex;\n",
              "      flex-wrap:wrap;\n",
              "      gap: 12px;\n",
              "    }\n",
              "\n",
              "    .colab-df-convert {\n",
              "      background-color: #E8F0FE;\n",
              "      border: none;\n",
              "      border-radius: 50%;\n",
              "      cursor: pointer;\n",
              "      display: none;\n",
              "      fill: #1967D2;\n",
              "      height: 32px;\n",
              "      padding: 0 0 0 0;\n",
              "      width: 32px;\n",
              "    }\n",
              "\n",
              "    .colab-df-convert:hover {\n",
              "      background-color: #E2EBFA;\n",
              "      box-shadow: 0px 1px 2px rgba(60, 64, 67, 0.3), 0px 1px 3px 1px rgba(60, 64, 67, 0.15);\n",
              "      fill: #174EA6;\n",
              "    }\n",
              "\n",
              "    [theme=dark] .colab-df-convert {\n",
              "      background-color: #3B4455;\n",
              "      fill: #D2E3FC;\n",
              "    }\n",
              "\n",
              "    [theme=dark] .colab-df-convert:hover {\n",
              "      background-color: #434B5C;\n",
              "      box-shadow: 0px 1px 3px 1px rgba(0, 0, 0, 0.15);\n",
              "      filter: drop-shadow(0px 1px 2px rgba(0, 0, 0, 0.3));\n",
              "      fill: #FFFFFF;\n",
              "    }\n",
              "  </style>\n",
              "\n",
              "      <script>\n",
              "        const buttonEl =\n",
              "          document.querySelector('#df-4fa4bf29-ce8b-4140-a429-70136829a019 button.colab-df-convert');\n",
              "        buttonEl.style.display =\n",
              "          google.colab.kernel.accessAllowed ? 'block' : 'none';\n",
              "\n",
              "        async function convertToInteractive(key) {\n",
              "          const element = document.querySelector('#df-4fa4bf29-ce8b-4140-a429-70136829a019');\n",
              "          const dataTable =\n",
              "            await google.colab.kernel.invokeFunction('convertToInteractive',\n",
              "                                                     [key], {});\n",
              "          if (!dataTable) return;\n",
              "\n",
              "          const docLinkHtml = 'Like what you see? Visit the ' +\n",
              "            '<a target=\"_blank\" href=https://colab.research.google.com/notebooks/data_table.ipynb>data table notebook</a>'\n",
              "            + ' to learn more about interactive tables.';\n",
              "          element.innerHTML = '';\n",
              "          dataTable['output_type'] = 'display_data';\n",
              "          await google.colab.output.renderOutput(dataTable, element);\n",
              "          const docLink = document.createElement('div');\n",
              "          docLink.innerHTML = docLinkHtml;\n",
              "          element.appendChild(docLink);\n",
              "        }\n",
              "      </script>\n",
              "    </div>\n",
              "  </div>\n",
              "  "
            ]
          },
          "metadata": {},
          "execution_count": 6
        }
      ]
    },
    {
      "cell_type": "markdown",
      "source": [
        "Conhecer o conteúdo das colunas, verificar quais são as inconsistências nos dados e  Corrigir as inconsistências nos dados.\n",
        "\n",
        "\n",
        " Dicionário de dados:\n",
        "- IdCliente                 : Número de identificação único de cada cliente\n",
        "- ClienteCancelado          : Se o cliente deixou ou não a empresa\n",
        "- Genero                    : Gênero (masculino e feminino)\n",
        "- Maior65                   : Informação sobre um cliente ter ou não idade igual ou maior que 65 anos\n",
        "- Parceiro(a)               : Se o cliente possui ou não um parceiro ou parceira\n",
        "- Dependentes               : Se o cliente possui ou não dependentes\n",
        "- TempoContrato(m)          : Meses de contrato do cliente\n",
        "- ServiçoTelefônico         : Assinatura de serviço telefônico\n",
        "- MultiplasLinhas           : Assisnatura de mais de uma linha de telefone\n",
        "- ServicoInternet           : Assinatura de um provedor internet\n",
        "- AdicinalSegurancaOnline   : Assinatura adicional de segurança online\n",
        "- AdicionalBackup           : Assinatura adicional de backup online\n",
        "- AdicionalProtDispositivo  : Assinatura adicional de proteção no dispositivo\n",
        "- AdicionalSuporte          : Assinatura adicional de suporte técnico, menos tempo de espera\n",
        "- AssinaturaTv              : Assinatura de TV a cabo\n",
        "- AssinaturaFilmes          : Assinatura de streaming de filmes\n",
        "- TipoContrato              : Tipo de contrato\n",
        "- FaturaDigital             : Se o cliente prefere receber online a fatura\n",
        "- FormaPagamento            : Forma de pagamento\n",
        "- GastoMensal               : Total de todos os serviços do cliente por mês\n",
        "- GastoTotal                : Total gasto pelo cliente\n"
      ],
      "metadata": {
        "id": "yMYtyFVses-H"
      }
    },
    {
      "cell_type": "code",
      "source": [
        "\n",
        "df_telco_customer.info()\n"
      ],
      "metadata": {
        "colab": {
          "base_uri": "https://localhost:8080/"
        },
        "id": "Nhwh_OLFfXVX",
        "outputId": "f171d2dd-92ba-48a8-9eed-12e8a1bab789"
      },
      "execution_count": 7,
      "outputs": [
        {
          "output_type": "stream",
          "name": "stdout",
          "text": [
            "<class 'pandas.core.frame.DataFrame'>\n",
            "RangeIndex: 7267 entries, 0 to 7266\n",
            "Data columns (total 21 columns):\n",
            " #   Column                    Non-Null Count  Dtype  \n",
            "---  ------                    --------------  -----  \n",
            " 0   IdCliente                 7267 non-null   object \n",
            " 1   ClienteCancelado          7267 non-null   object \n",
            " 2   Genero                    7267 non-null   object \n",
            " 3   Maior65                   7267 non-null   int64  \n",
            " 4   Parceiro(a)               7267 non-null   object \n",
            " 5   Dependentes               7267 non-null   object \n",
            " 6   TempoContrato(m)          7267 non-null   int64  \n",
            " 7   ServiçoTelefônico         7267 non-null   object \n",
            " 8   MultiplasLinhas           7267 non-null   object \n",
            " 9   ServicoInternet           7267 non-null   object \n",
            " 10  AdicinalSegurancaOnline   7267 non-null   object \n",
            " 11  AdicionalBackup           7267 non-null   object \n",
            " 12  AdicionalProtDispositivo  7267 non-null   object \n",
            " 13  AdicionalSuporte          7267 non-null   object \n",
            " 14  AssinaturaTv              7267 non-null   object \n",
            " 15  AssinaturaFilmes          7267 non-null   object \n",
            " 16  TipoContrato              7267 non-null   object \n",
            " 17  FaturaDigital             7267 non-null   object \n",
            " 18  FormaPagamento            7267 non-null   object \n",
            " 19  GastoMensal               7267 non-null   float64\n",
            " 20  GastoTotal                7267 non-null   object \n",
            "dtypes: float64(1), int64(2), object(18)\n",
            "memory usage: 1.2+ MB\n"
          ]
        }
      ]
    },
    {
      "cell_type": "code",
      "source": [
        "# Verificando o conteúdo dos campos\n",
        "df_telco_customer['IdCliente'].value_counts()"
      ],
      "metadata": {
        "colab": {
          "base_uri": "https://localhost:8080/"
        },
        "id": "pEmjT5vjfyYJ",
        "outputId": "1f98bb91-aade-4e69-f933-977d2658d2eb"
      },
      "execution_count": 8,
      "outputs": [
        {
          "output_type": "execute_result",
          "data": {
            "text/plain": [
              "0002-ORFBO    1\n",
              "6614-VBEGU    1\n",
              "6637-KYRCV    1\n",
              "6635-MYYYZ    1\n",
              "6635-CPNUN    1\n",
              "             ..\n",
              "3374-TTZTK    1\n",
              "3374-PZLXD    1\n",
              "3374-LXDEV    1\n",
              "3373-YZZYM    1\n",
              "9995-HOTOH    1\n",
              "Name: IdCliente, Length: 7267, dtype: int64"
            ]
          },
          "metadata": {},
          "execution_count": 8
        }
      ]
    },
    {
      "cell_type": "code",
      "source": [
        "df_telco_customer['ClienteCancelado'].value_counts()\n",
        "# 224 nulos, necessário corrigir antes de iniciar a análise exploratória, o objetivo do estudo é analisar o motivo dos cancelamentos e dos não cancelamentos"
      ],
      "metadata": {
        "colab": {
          "base_uri": "https://localhost:8080/"
        },
        "id": "U8Ik22EViWn6",
        "outputId": "59357b46-4f94-40d4-cbe9-b29980d54bd4"
      },
      "execution_count": 9,
      "outputs": [
        {
          "output_type": "execute_result",
          "data": {
            "text/plain": [
              "No     5174\n",
              "Yes    1869\n",
              "        224\n",
              "Name: ClienteCancelado, dtype: int64"
            ]
          },
          "metadata": {},
          "execution_count": 9
        }
      ]
    },
    {
      "cell_type": "code",
      "source": [
        "df_telco_customer['Genero'].value_counts()\n",
        "# Ok"
      ],
      "metadata": {
        "colab": {
          "base_uri": "https://localhost:8080/"
        },
        "id": "CYhYUthZiwOi",
        "outputId": "cc6670c7-778f-456c-d0f8-421b67697703"
      },
      "execution_count": 10,
      "outputs": [
        {
          "output_type": "execute_result",
          "data": {
            "text/plain": [
              "Male      3675\n",
              "Female    3592\n",
              "Name: Genero, dtype: int64"
            ]
          },
          "metadata": {},
          "execution_count": 10
        }
      ]
    },
    {
      "cell_type": "code",
      "source": [
        "df_telco_customer['Maior65'].value_counts()\n",
        "# Aparentemente a coluna indica que o assinante titular é Maior65 = 1 e não é = 0"
      ],
      "metadata": {
        "colab": {
          "base_uri": "https://localhost:8080/"
        },
        "id": "Q8_Bc5rllk1C",
        "outputId": "9f0dd056-3dde-4ad3-f859-07efa6fe493c"
      },
      "execution_count": 11,
      "outputs": [
        {
          "output_type": "execute_result",
          "data": {
            "text/plain": [
              "0    6085\n",
              "1    1182\n",
              "Name: Maior65, dtype: int64"
            ]
          },
          "metadata": {},
          "execution_count": 11
        }
      ]
    },
    {
      "cell_type": "code",
      "source": [
        "df_telco_customer['Parceiro(a)'].value_counts()\n",
        "# Ok"
      ],
      "metadata": {
        "colab": {
          "base_uri": "https://localhost:8080/"
        },
        "id": "I0pJsPm-yHnK",
        "outputId": "7a2a05a7-ff27-4625-e45a-c9f5e53334f8"
      },
      "execution_count": 12,
      "outputs": [
        {
          "output_type": "execute_result",
          "data": {
            "text/plain": [
              "No     3749\n",
              "Yes    3518\n",
              "Name: Parceiro(a), dtype: int64"
            ]
          },
          "metadata": {},
          "execution_count": 12
        }
      ]
    },
    {
      "cell_type": "code",
      "source": [
        "df_telco_customer['Dependentes'].value_counts()\n",
        "# Ok"
      ],
      "metadata": {
        "colab": {
          "base_uri": "https://localhost:8080/"
        },
        "id": "H0JuCr6wyUDe",
        "outputId": "248e3abe-9a88-4c6a-be30-3c8de07fb64d"
      },
      "execution_count": 13,
      "outputs": [
        {
          "output_type": "execute_result",
          "data": {
            "text/plain": [
              "No     5086\n",
              "Yes    2181\n",
              "Name: Dependentes, dtype: int64"
            ]
          },
          "metadata": {},
          "execution_count": 13
        }
      ]
    },
    {
      "cell_type": "code",
      "source": [
        "df_telco_customer['TempoContrato(m)'].value_counts().sort_index()\n",
        "# Clientes com tempo de contrato igual a zero '0', significa que e um cliente novo que ainda não completou o primeiro mês de contrato"
      ],
      "metadata": {
        "colab": {
          "base_uri": "https://localhost:8080/"
        },
        "id": "EnEyxlyUfp-8",
        "outputId": "984dafe0-65f7-40ba-e58e-23bd7f819da2"
      },
      "execution_count": 14,
      "outputs": [
        {
          "output_type": "execute_result",
          "data": {
            "text/plain": [
              "0      11\n",
              "1     634\n",
              "2     246\n",
              "3     207\n",
              "4     185\n",
              "     ... \n",
              "68    104\n",
              "69    100\n",
              "70    122\n",
              "71    176\n",
              "72    369\n",
              "Name: TempoContrato(m), Length: 73, dtype: int64"
            ]
          },
          "metadata": {},
          "execution_count": 14
        }
      ]
    },
    {
      "cell_type": "code",
      "source": [
        "df_telco_customer['ServiçoTelefônico'].value_counts()\n",
        "# Ok"
      ],
      "metadata": {
        "colab": {
          "base_uri": "https://localhost:8080/"
        },
        "id": "qIcEzEpCyWHZ",
        "outputId": "586b967a-75d3-4e63-af50-2e7b2940d601"
      },
      "execution_count": 15,
      "outputs": [
        {
          "output_type": "execute_result",
          "data": {
            "text/plain": [
              "Yes    6560\n",
              "No      707\n",
              "Name: ServiçoTelefônico, dtype: int64"
            ]
          },
          "metadata": {},
          "execution_count": 15
        }
      ]
    },
    {
      "cell_type": "markdown",
      "source": [
        "Informação importante 707 **não possuem serviço de telefonico**, será que isso influencia o cancelamento ?"
      ],
      "metadata": {
        "id": "COKwU2CXCwbM"
      }
    },
    {
      "cell_type": "code",
      "source": [
        "df_telco_customer['MultiplasLinhas'].value_counts()\n",
        "# Ok"
      ],
      "metadata": {
        "colab": {
          "base_uri": "https://localhost:8080/"
        },
        "id": "xrklcMYyyWsG",
        "outputId": "7fdfa36a-26f9-4dec-9fd3-800506ec0eb4"
      },
      "execution_count": 16,
      "outputs": [
        {
          "output_type": "execute_result",
          "data": {
            "text/plain": [
              "No                  3495\n",
              "Yes                 3065\n",
              "No phone service     707\n",
              "Name: MultiplasLinhas, dtype: int64"
            ]
          },
          "metadata": {},
          "execution_count": 16
        }
      ]
    },
    {
      "cell_type": "code",
      "source": [
        "df_telco_customer['ServicoInternet'].value_counts()\n",
        "# Ok\n",
        "# Informação importante 1581 não possuem serviço de internet"
      ],
      "metadata": {
        "colab": {
          "base_uri": "https://localhost:8080/"
        },
        "id": "oYYZ7OfsyXSe",
        "outputId": "bb118ddb-b184-4c39-dada-4288d9bba17b"
      },
      "execution_count": 17,
      "outputs": [
        {
          "output_type": "execute_result",
          "data": {
            "text/plain": [
              "Fiber optic    3198\n",
              "DSL            2488\n",
              "No             1581\n",
              "Name: ServicoInternet, dtype: int64"
            ]
          },
          "metadata": {},
          "execution_count": 17
        }
      ]
    },
    {
      "cell_type": "markdown",
      "source": [
        "Informação importante 1581 **não possuem serviço de internet**, será que isso influencia o cancelamento ?"
      ],
      "metadata": {
        "id": "wLl1zxV1CHH5"
      }
    },
    {
      "cell_type": "code",
      "source": [
        "df_telco_customer['AdicinalSegurancaOnline'].value_counts()\n",
        "# Ok"
      ],
      "metadata": {
        "colab": {
          "base_uri": "https://localhost:8080/"
        },
        "id": "Mcx3tU7R8tdV",
        "outputId": "d48ce7ae-2b82-44ba-dadb-db91b54e9f80"
      },
      "execution_count": 18,
      "outputs": [
        {
          "output_type": "execute_result",
          "data": {
            "text/plain": [
              "No                     3608\n",
              "Yes                    2078\n",
              "No internet service    1581\n",
              "Name: AdicinalSegurancaOnline, dtype: int64"
            ]
          },
          "metadata": {},
          "execution_count": 18
        }
      ]
    },
    {
      "cell_type": "code",
      "source": [
        "df_telco_customer['AdicionalBackup'].value_counts()\n",
        "# Ok"
      ],
      "metadata": {
        "colab": {
          "base_uri": "https://localhost:8080/"
        },
        "id": "qPFFg6gj8xVR",
        "outputId": "36003324-564a-491f-d511-aa365ec28ee8"
      },
      "execution_count": 19,
      "outputs": [
        {
          "output_type": "execute_result",
          "data": {
            "text/plain": [
              "No                     3182\n",
              "Yes                    2504\n",
              "No internet service    1581\n",
              "Name: AdicionalBackup, dtype: int64"
            ]
          },
          "metadata": {},
          "execution_count": 19
        }
      ]
    },
    {
      "cell_type": "code",
      "source": [
        "df_telco_customer['AdicionalProtDispositivo'].value_counts()\n",
        "# Ok"
      ],
      "metadata": {
        "colab": {
          "base_uri": "https://localhost:8080/"
        },
        "id": "AlvVgYzd8yI6",
        "outputId": "e8738946-e59a-4627-ba2f-abbefbbfb83b"
      },
      "execution_count": 20,
      "outputs": [
        {
          "output_type": "execute_result",
          "data": {
            "text/plain": [
              "No                     3195\n",
              "Yes                    2491\n",
              "No internet service    1581\n",
              "Name: AdicionalProtDispositivo, dtype: int64"
            ]
          },
          "metadata": {},
          "execution_count": 20
        }
      ]
    },
    {
      "cell_type": "code",
      "source": [
        "df_telco_customer['AdicionalSuporte'].value_counts()\n",
        "# Ok"
      ],
      "metadata": {
        "colab": {
          "base_uri": "https://localhost:8080/"
        },
        "id": "FHxvIB1b8yyk",
        "outputId": "bd8e24b4-a648-49a0-f6fe-b6f0da9575ac"
      },
      "execution_count": 21,
      "outputs": [
        {
          "output_type": "execute_result",
          "data": {
            "text/plain": [
              "No                     3582\n",
              "Yes                    2104\n",
              "No internet service    1581\n",
              "Name: AdicionalSuporte, dtype: int64"
            ]
          },
          "metadata": {},
          "execution_count": 21
        }
      ]
    },
    {
      "cell_type": "code",
      "source": [
        "df_telco_customer['AssinaturaTv'].value_counts()\n",
        "# Ok"
      ],
      "metadata": {
        "colab": {
          "base_uri": "https://localhost:8080/"
        },
        "id": "3SPIljaj8zZx",
        "outputId": "070423b0-a575-49b8-bc45-7a2cf0642b48"
      },
      "execution_count": 22,
      "outputs": [
        {
          "output_type": "execute_result",
          "data": {
            "text/plain": [
              "No                     2896\n",
              "Yes                    2790\n",
              "No internet service    1581\n",
              "Name: AssinaturaTv, dtype: int64"
            ]
          },
          "metadata": {},
          "execution_count": 22
        }
      ]
    },
    {
      "cell_type": "markdown",
      "source": [
        "Informação importante 2896 não possuem assinatura de TV, será que isso influencia o cancelamento ?"
      ],
      "metadata": {
        "id": "Y_F1C_eGkDtv"
      }
    },
    {
      "cell_type": "code",
      "source": [
        "df_telco_customer['AssinaturaFilmes'].value_counts()\n",
        "# Ok"
      ],
      "metadata": {
        "colab": {
          "base_uri": "https://localhost:8080/"
        },
        "id": "5P6c7_4o98-K",
        "outputId": "32563a32-b448-40d4-bf7b-1c6ee80ae337"
      },
      "execution_count": 23,
      "outputs": [
        {
          "output_type": "execute_result",
          "data": {
            "text/plain": [
              "No                     2870\n",
              "Yes                    2816\n",
              "No internet service    1581\n",
              "Name: AssinaturaFilmes, dtype: int64"
            ]
          },
          "metadata": {},
          "execution_count": 23
        }
      ]
    },
    {
      "cell_type": "code",
      "source": [
        "df_telco_customer['TipoContrato'].value_counts()\n",
        "# Ok"
      ],
      "metadata": {
        "colab": {
          "base_uri": "https://localhost:8080/"
        },
        "id": "FoVdfHtZ9-2S",
        "outputId": "890ffc4c-55d4-4d23-d7fd-f9132c005385"
      },
      "execution_count": 24,
      "outputs": [
        {
          "output_type": "execute_result",
          "data": {
            "text/plain": [
              "Month-to-month    4005\n",
              "Two year          1743\n",
              "One year          1519\n",
              "Name: TipoContrato, dtype: int64"
            ]
          },
          "metadata": {},
          "execution_count": 24
        }
      ]
    },
    {
      "cell_type": "code",
      "source": [
        "df_telco_customer['FaturaDigital'].value_counts()\n",
        "# Ok"
      ],
      "metadata": {
        "colab": {
          "base_uri": "https://localhost:8080/"
        },
        "id": "vUDPHxnJ9_l2",
        "outputId": "47c85890-194a-42eb-a423-b26ac653a2e3"
      },
      "execution_count": 25,
      "outputs": [
        {
          "output_type": "execute_result",
          "data": {
            "text/plain": [
              "Yes    4311\n",
              "No     2956\n",
              "Name: FaturaDigital, dtype: int64"
            ]
          },
          "metadata": {},
          "execution_count": 25
        }
      ]
    },
    {
      "cell_type": "code",
      "source": [
        "df_telco_customer['FormaPagamento'].value_counts()\n",
        "# Ok"
      ],
      "metadata": {
        "colab": {
          "base_uri": "https://localhost:8080/"
        },
        "id": "get08Lje-AKh",
        "outputId": "ab4e8490-3470-4ee6-a636-702148b6de7a"
      },
      "execution_count": 26,
      "outputs": [
        {
          "output_type": "execute_result",
          "data": {
            "text/plain": [
              "Electronic check             2445\n",
              "Mailed check                 1665\n",
              "Bank transfer (automatic)    1589\n",
              "Credit card (automatic)      1568\n",
              "Name: FormaPagamento, dtype: int64"
            ]
          },
          "metadata": {},
          "execution_count": 26
        }
      ]
    },
    {
      "cell_type": "code",
      "source": [
        "df_telco_customer['GastoMensal'].value_counts().sort_index()"
      ],
      "metadata": {
        "colab": {
          "base_uri": "https://localhost:8080/"
        },
        "id": "L4ZpC6_9ByDA",
        "outputId": "c266d659-98d1-4ea6-fcf3-c1d721964f8f"
      },
      "execution_count": 27,
      "outputs": [
        {
          "output_type": "execute_result",
          "data": {
            "text/plain": [
              "18.25     1\n",
              "18.40     1\n",
              "18.55     1\n",
              "18.70     2\n",
              "18.75     2\n",
              "         ..\n",
              "118.20    1\n",
              "118.35    1\n",
              "118.60    2\n",
              "118.65    1\n",
              "118.75    1\n",
              "Name: GastoMensal, Length: 1585, dtype: int64"
            ]
          },
          "metadata": {},
          "execution_count": 27
        }
      ]
    },
    {
      "cell_type": "code",
      "source": [
        "df_telco_customer['GastoTotal'].value_counts().sort_index()\n",
        "# Ok\n",
        "# Os 11 clientes que não possuem valor de gasto total são os 11 clientes que ainda não tem completaram o primeiro mês de contrato (campo 'TempoContrato(m)')"
      ],
      "metadata": {
        "colab": {
          "base_uri": "https://localhost:8080/"
        },
        "id": "e2fcttDABxzP",
        "outputId": "09ec3eb8-e2f4-488f-b9fb-9331125a92de"
      },
      "execution_count": 28,
      "outputs": [
        {
          "output_type": "execute_result",
          "data": {
            "text/plain": [
              "          11\n",
              "100.2      1\n",
              "100.25     1\n",
              "100.35     1\n",
              "100.4      1\n",
              "          ..\n",
              "997.75     1\n",
              "998.1      1\n",
              "999.45     2\n",
              "999.8      1\n",
              "999.9      1\n",
              "Name: GastoTotal, Length: 6531, dtype: int64"
            ]
          },
          "metadata": {},
          "execution_count": 28
        }
      ]
    },
    {
      "cell_type": "code",
      "source": [
        "# Como o campo GastoTotal representa valor monetário, vou substituir o valor dos clientes que ainda não completaram o primeiro mês de 'vazio' para zero '0' \n",
        "df_telco_customer.loc[df_telco_customer['GastoTotal'] == ' ' , 'GastoTotal'] = '0'\n",
        "df_telco_customer['GastoTotal'].value_counts().sort_index()"
      ],
      "metadata": {
        "colab": {
          "base_uri": "https://localhost:8080/"
        },
        "id": "PBFmadKLpB4Y",
        "outputId": "1b5d8092-b4c1-41b1-f22f-621a3c5ed0be"
      },
      "execution_count": 29,
      "outputs": [
        {
          "output_type": "execute_result",
          "data": {
            "text/plain": [
              "0         11\n",
              "100.2      1\n",
              "100.25     1\n",
              "100.35     1\n",
              "100.4      1\n",
              "          ..\n",
              "997.75     1\n",
              "998.1      1\n",
              "999.45     2\n",
              "999.8      1\n",
              "999.9      1\n",
              "Name: GastoTotal, Length: 6531, dtype: int64"
            ]
          },
          "metadata": {},
          "execution_count": 29
        }
      ]
    },
    {
      "cell_type": "code",
      "source": [
        "# Como o campo GastoTotal representa valor monetário deveria ser do tipo float64 é não object, necessário corrigir para realização das futuras análises\n",
        "df_telco_customer['GastoTotal'] = pd.to_numeric(df_telco_customer['GastoTotal'],errors = 'coerce')\n",
        "df_telco_customer.info()"
      ],
      "metadata": {
        "colab": {
          "base_uri": "https://localhost:8080/"
        },
        "id": "TFNkswrlg5Tl",
        "outputId": "8ecc32a9-fb94-4e85-b0fb-99b40410575f"
      },
      "execution_count": 30,
      "outputs": [
        {
          "output_type": "stream",
          "name": "stdout",
          "text": [
            "<class 'pandas.core.frame.DataFrame'>\n",
            "RangeIndex: 7267 entries, 0 to 7266\n",
            "Data columns (total 21 columns):\n",
            " #   Column                    Non-Null Count  Dtype  \n",
            "---  ------                    --------------  -----  \n",
            " 0   IdCliente                 7267 non-null   object \n",
            " 1   ClienteCancelado          7267 non-null   object \n",
            " 2   Genero                    7267 non-null   object \n",
            " 3   Maior65                   7267 non-null   int64  \n",
            " 4   Parceiro(a)               7267 non-null   object \n",
            " 5   Dependentes               7267 non-null   object \n",
            " 6   TempoContrato(m)          7267 non-null   int64  \n",
            " 7   ServiçoTelefônico         7267 non-null   object \n",
            " 8   MultiplasLinhas           7267 non-null   object \n",
            " 9   ServicoInternet           7267 non-null   object \n",
            " 10  AdicinalSegurancaOnline   7267 non-null   object \n",
            " 11  AdicionalBackup           7267 non-null   object \n",
            " 12  AdicionalProtDispositivo  7267 non-null   object \n",
            " 13  AdicionalSuporte          7267 non-null   object \n",
            " 14  AssinaturaTv              7267 non-null   object \n",
            " 15  AssinaturaFilmes          7267 non-null   object \n",
            " 16  TipoContrato              7267 non-null   object \n",
            " 17  FaturaDigital             7267 non-null   object \n",
            " 18  FormaPagamento            7267 non-null   object \n",
            " 19  GastoMensal               7267 non-null   float64\n",
            " 20  GastoTotal                7267 non-null   float64\n",
            "dtypes: float64(2), int64(2), object(17)\n",
            "memory usage: 1.2+ MB\n"
          ]
        }
      ]
    },
    {
      "cell_type": "code",
      "source": [
        "# Verificando a transformação do campo\n",
        "df_telco_customer['GastoTotal'].value_counts().sort_index()"
      ],
      "metadata": {
        "colab": {
          "base_uri": "https://localhost:8080/"
        },
        "id": "LnkWUiSau5XD",
        "outputId": "b1272810-c41b-4f43-e60c-58dcc1e18c8d"
      },
      "execution_count": 31,
      "outputs": [
        {
          "output_type": "execute_result",
          "data": {
            "text/plain": [
              "0.00       11\n",
              "18.80       1\n",
              "18.85       2\n",
              "18.90       2\n",
              "19.00       1\n",
              "           ..\n",
              "8564.75     1\n",
              "8594.40     1\n",
              "8670.10     1\n",
              "8672.45     1\n",
              "8684.80     1\n",
              "Name: GastoTotal, Length: 6531, dtype: int64"
            ]
          },
          "metadata": {},
          "execution_count": 31
        }
      ]
    },
    {
      "cell_type": "code",
      "source": [
        "# Como o objetivo é analisar o cancelamento (churn), vou excluir os 224 clientes sem informação de cancelamento\n",
        "index = df_telco_customer[ df_telco_customer['ClienteCancelado'] == ''].index\n",
        "df_telco_customer.drop(index , inplace=True)\n",
        "df_telco_customer['ClienteCancelado'].value_counts()"
      ],
      "metadata": {
        "id": "0tLgEqTOBxpP",
        "colab": {
          "base_uri": "https://localhost:8080/"
        },
        "outputId": "5512a91a-ecab-4d44-d7fd-24c42c975e43"
      },
      "execution_count": 32,
      "outputs": [
        {
          "output_type": "execute_result",
          "data": {
            "text/plain": [
              "No     5174\n",
              "Yes    1869\n",
              "Name: ClienteCancelado, dtype: int64"
            ]
          },
          "metadata": {},
          "execution_count": 32
        }
      ]
    },
    {
      "cell_type": "code",
      "source": [
        "# Como somente a coluna 'Maior65' (SeniorCitizen) não está seguindo o padrão de conteudo para domínios boleanos da massa de dados, ao invés de  'Yes' e 'No' está usando 1 e 0, \n",
        "# decidi, ajusta-la para o mesmo padrão.\n",
        "map =  {1:'Yes', 0:'No'}\n",
        "df_telco_customer['Maior65'].replace(map, inplace=True)\n",
        "df_telco_customer.head(5)\n"
      ],
      "metadata": {
        "colab": {
          "base_uri": "https://localhost:8080/",
          "height": 357
        },
        "id": "cCWmzvkF6rwm",
        "outputId": "9bd7960c-caa8-4a1d-d076-55d9de1bb0b1"
      },
      "execution_count": 33,
      "outputs": [
        {
          "output_type": "execute_result",
          "data": {
            "text/plain": [
              "    IdCliente ClienteCancelado  Genero Maior65 Parceiro(a) Dependentes  \\\n",
              "0  0002-ORFBO               No  Female      No         Yes         Yes   \n",
              "1  0003-MKNFE               No    Male      No          No          No   \n",
              "2  0004-TLHLJ              Yes    Male      No          No          No   \n",
              "3  0011-IGKFF              Yes    Male     Yes         Yes          No   \n",
              "4  0013-EXCHZ              Yes  Female     Yes         Yes          No   \n",
              "\n",
              "   TempoContrato(m) ServiçoTelefônico MultiplasLinhas ServicoInternet  \\\n",
              "0                 9               Yes              No             DSL   \n",
              "1                 9               Yes             Yes             DSL   \n",
              "2                 4               Yes              No     Fiber optic   \n",
              "3                13               Yes              No     Fiber optic   \n",
              "4                 3               Yes              No     Fiber optic   \n",
              "\n",
              "  AdicinalSegurancaOnline AdicionalBackup AdicionalProtDispositivo  \\\n",
              "0                      No             Yes                       No   \n",
              "1                      No              No                       No   \n",
              "2                      No              No                      Yes   \n",
              "3                      No             Yes                      Yes   \n",
              "4                      No              No                       No   \n",
              "\n",
              "  AdicionalSuporte AssinaturaTv AssinaturaFilmes    TipoContrato  \\\n",
              "0              Yes          Yes               No        One year   \n",
              "1               No           No              Yes  Month-to-month   \n",
              "2               No           No               No  Month-to-month   \n",
              "3               No          Yes              Yes  Month-to-month   \n",
              "4              Yes          Yes               No  Month-to-month   \n",
              "\n",
              "  FaturaDigital    FormaPagamento  GastoMensal  GastoTotal  \n",
              "0           Yes      Mailed check         65.6      593.30  \n",
              "1            No      Mailed check         59.9      542.40  \n",
              "2           Yes  Electronic check         73.9      280.85  \n",
              "3           Yes  Electronic check         98.0     1237.85  \n",
              "4           Yes      Mailed check         83.9      267.40  "
            ],
            "text/html": [
              "\n",
              "  <div id=\"df-002fa023-4a87-401f-b7d8-66960e613526\">\n",
              "    <div class=\"colab-df-container\">\n",
              "      <div>\n",
              "<style scoped>\n",
              "    .dataframe tbody tr th:only-of-type {\n",
              "        vertical-align: middle;\n",
              "    }\n",
              "\n",
              "    .dataframe tbody tr th {\n",
              "        vertical-align: top;\n",
              "    }\n",
              "\n",
              "    .dataframe thead th {\n",
              "        text-align: right;\n",
              "    }\n",
              "</style>\n",
              "<table border=\"1\" class=\"dataframe\">\n",
              "  <thead>\n",
              "    <tr style=\"text-align: right;\">\n",
              "      <th></th>\n",
              "      <th>IdCliente</th>\n",
              "      <th>ClienteCancelado</th>\n",
              "      <th>Genero</th>\n",
              "      <th>Maior65</th>\n",
              "      <th>Parceiro(a)</th>\n",
              "      <th>Dependentes</th>\n",
              "      <th>TempoContrato(m)</th>\n",
              "      <th>ServiçoTelefônico</th>\n",
              "      <th>MultiplasLinhas</th>\n",
              "      <th>ServicoInternet</th>\n",
              "      <th>AdicinalSegurancaOnline</th>\n",
              "      <th>AdicionalBackup</th>\n",
              "      <th>AdicionalProtDispositivo</th>\n",
              "      <th>AdicionalSuporte</th>\n",
              "      <th>AssinaturaTv</th>\n",
              "      <th>AssinaturaFilmes</th>\n",
              "      <th>TipoContrato</th>\n",
              "      <th>FaturaDigital</th>\n",
              "      <th>FormaPagamento</th>\n",
              "      <th>GastoMensal</th>\n",
              "      <th>GastoTotal</th>\n",
              "    </tr>\n",
              "  </thead>\n",
              "  <tbody>\n",
              "    <tr>\n",
              "      <th>0</th>\n",
              "      <td>0002-ORFBO</td>\n",
              "      <td>No</td>\n",
              "      <td>Female</td>\n",
              "      <td>No</td>\n",
              "      <td>Yes</td>\n",
              "      <td>Yes</td>\n",
              "      <td>9</td>\n",
              "      <td>Yes</td>\n",
              "      <td>No</td>\n",
              "      <td>DSL</td>\n",
              "      <td>No</td>\n",
              "      <td>Yes</td>\n",
              "      <td>No</td>\n",
              "      <td>Yes</td>\n",
              "      <td>Yes</td>\n",
              "      <td>No</td>\n",
              "      <td>One year</td>\n",
              "      <td>Yes</td>\n",
              "      <td>Mailed check</td>\n",
              "      <td>65.6</td>\n",
              "      <td>593.30</td>\n",
              "    </tr>\n",
              "    <tr>\n",
              "      <th>1</th>\n",
              "      <td>0003-MKNFE</td>\n",
              "      <td>No</td>\n",
              "      <td>Male</td>\n",
              "      <td>No</td>\n",
              "      <td>No</td>\n",
              "      <td>No</td>\n",
              "      <td>9</td>\n",
              "      <td>Yes</td>\n",
              "      <td>Yes</td>\n",
              "      <td>DSL</td>\n",
              "      <td>No</td>\n",
              "      <td>No</td>\n",
              "      <td>No</td>\n",
              "      <td>No</td>\n",
              "      <td>No</td>\n",
              "      <td>Yes</td>\n",
              "      <td>Month-to-month</td>\n",
              "      <td>No</td>\n",
              "      <td>Mailed check</td>\n",
              "      <td>59.9</td>\n",
              "      <td>542.40</td>\n",
              "    </tr>\n",
              "    <tr>\n",
              "      <th>2</th>\n",
              "      <td>0004-TLHLJ</td>\n",
              "      <td>Yes</td>\n",
              "      <td>Male</td>\n",
              "      <td>No</td>\n",
              "      <td>No</td>\n",
              "      <td>No</td>\n",
              "      <td>4</td>\n",
              "      <td>Yes</td>\n",
              "      <td>No</td>\n",
              "      <td>Fiber optic</td>\n",
              "      <td>No</td>\n",
              "      <td>No</td>\n",
              "      <td>Yes</td>\n",
              "      <td>No</td>\n",
              "      <td>No</td>\n",
              "      <td>No</td>\n",
              "      <td>Month-to-month</td>\n",
              "      <td>Yes</td>\n",
              "      <td>Electronic check</td>\n",
              "      <td>73.9</td>\n",
              "      <td>280.85</td>\n",
              "    </tr>\n",
              "    <tr>\n",
              "      <th>3</th>\n",
              "      <td>0011-IGKFF</td>\n",
              "      <td>Yes</td>\n",
              "      <td>Male</td>\n",
              "      <td>Yes</td>\n",
              "      <td>Yes</td>\n",
              "      <td>No</td>\n",
              "      <td>13</td>\n",
              "      <td>Yes</td>\n",
              "      <td>No</td>\n",
              "      <td>Fiber optic</td>\n",
              "      <td>No</td>\n",
              "      <td>Yes</td>\n",
              "      <td>Yes</td>\n",
              "      <td>No</td>\n",
              "      <td>Yes</td>\n",
              "      <td>Yes</td>\n",
              "      <td>Month-to-month</td>\n",
              "      <td>Yes</td>\n",
              "      <td>Electronic check</td>\n",
              "      <td>98.0</td>\n",
              "      <td>1237.85</td>\n",
              "    </tr>\n",
              "    <tr>\n",
              "      <th>4</th>\n",
              "      <td>0013-EXCHZ</td>\n",
              "      <td>Yes</td>\n",
              "      <td>Female</td>\n",
              "      <td>Yes</td>\n",
              "      <td>Yes</td>\n",
              "      <td>No</td>\n",
              "      <td>3</td>\n",
              "      <td>Yes</td>\n",
              "      <td>No</td>\n",
              "      <td>Fiber optic</td>\n",
              "      <td>No</td>\n",
              "      <td>No</td>\n",
              "      <td>No</td>\n",
              "      <td>Yes</td>\n",
              "      <td>Yes</td>\n",
              "      <td>No</td>\n",
              "      <td>Month-to-month</td>\n",
              "      <td>Yes</td>\n",
              "      <td>Mailed check</td>\n",
              "      <td>83.9</td>\n",
              "      <td>267.40</td>\n",
              "    </tr>\n",
              "  </tbody>\n",
              "</table>\n",
              "</div>\n",
              "      <button class=\"colab-df-convert\" onclick=\"convertToInteractive('df-002fa023-4a87-401f-b7d8-66960e613526')\"\n",
              "              title=\"Convert this dataframe to an interactive table.\"\n",
              "              style=\"display:none;\">\n",
              "        \n",
              "  <svg xmlns=\"http://www.w3.org/2000/svg\" height=\"24px\"viewBox=\"0 0 24 24\"\n",
              "       width=\"24px\">\n",
              "    <path d=\"M0 0h24v24H0V0z\" fill=\"none\"/>\n",
              "    <path d=\"M18.56 5.44l.94 2.06.94-2.06 2.06-.94-2.06-.94-.94-2.06-.94 2.06-2.06.94zm-11 1L8.5 8.5l.94-2.06 2.06-.94-2.06-.94L8.5 2.5l-.94 2.06-2.06.94zm10 10l.94 2.06.94-2.06 2.06-.94-2.06-.94-.94-2.06-.94 2.06-2.06.94z\"/><path d=\"M17.41 7.96l-1.37-1.37c-.4-.4-.92-.59-1.43-.59-.52 0-1.04.2-1.43.59L10.3 9.45l-7.72 7.72c-.78.78-.78 2.05 0 2.83L4 21.41c.39.39.9.59 1.41.59.51 0 1.02-.2 1.41-.59l7.78-7.78 2.81-2.81c.8-.78.8-2.07 0-2.86zM5.41 20L4 18.59l7.72-7.72 1.47 1.35L5.41 20z\"/>\n",
              "  </svg>\n",
              "      </button>\n",
              "      \n",
              "  <style>\n",
              "    .colab-df-container {\n",
              "      display:flex;\n",
              "      flex-wrap:wrap;\n",
              "      gap: 12px;\n",
              "    }\n",
              "\n",
              "    .colab-df-convert {\n",
              "      background-color: #E8F0FE;\n",
              "      border: none;\n",
              "      border-radius: 50%;\n",
              "      cursor: pointer;\n",
              "      display: none;\n",
              "      fill: #1967D2;\n",
              "      height: 32px;\n",
              "      padding: 0 0 0 0;\n",
              "      width: 32px;\n",
              "    }\n",
              "\n",
              "    .colab-df-convert:hover {\n",
              "      background-color: #E2EBFA;\n",
              "      box-shadow: 0px 1px 2px rgba(60, 64, 67, 0.3), 0px 1px 3px 1px rgba(60, 64, 67, 0.15);\n",
              "      fill: #174EA6;\n",
              "    }\n",
              "\n",
              "    [theme=dark] .colab-df-convert {\n",
              "      background-color: #3B4455;\n",
              "      fill: #D2E3FC;\n",
              "    }\n",
              "\n",
              "    [theme=dark] .colab-df-convert:hover {\n",
              "      background-color: #434B5C;\n",
              "      box-shadow: 0px 1px 3px 1px rgba(0, 0, 0, 0.15);\n",
              "      filter: drop-shadow(0px 1px 2px rgba(0, 0, 0, 0.3));\n",
              "      fill: #FFFFFF;\n",
              "    }\n",
              "  </style>\n",
              "\n",
              "      <script>\n",
              "        const buttonEl =\n",
              "          document.querySelector('#df-002fa023-4a87-401f-b7d8-66960e613526 button.colab-df-convert');\n",
              "        buttonEl.style.display =\n",
              "          google.colab.kernel.accessAllowed ? 'block' : 'none';\n",
              "\n",
              "        async function convertToInteractive(key) {\n",
              "          const element = document.querySelector('#df-002fa023-4a87-401f-b7d8-66960e613526');\n",
              "          const dataTable =\n",
              "            await google.colab.kernel.invokeFunction('convertToInteractive',\n",
              "                                                     [key], {});\n",
              "          if (!dataTable) return;\n",
              "\n",
              "          const docLinkHtml = 'Like what you see? Visit the ' +\n",
              "            '<a target=\"_blank\" href=https://colab.research.google.com/notebooks/data_table.ipynb>data table notebook</a>'\n",
              "            + ' to learn more about interactive tables.';\n",
              "          element.innerHTML = '';\n",
              "          dataTable['output_type'] = 'display_data';\n",
              "          await google.colab.output.renderOutput(dataTable, element);\n",
              "          const docLink = document.createElement('div');\n",
              "          docLink.innerHTML = docLinkHtml;\n",
              "          element.appendChild(docLink);\n",
              "        }\n",
              "      </script>\n",
              "    </div>\n",
              "  </div>\n",
              "  "
            ]
          },
          "metadata": {},
          "execution_count": 33
        }
      ]
    },
    {
      "cell_type": "markdown",
      "source": [
        "Criar coluna de valor média de gasto diário "
      ],
      "metadata": {
        "id": "dcp_rjbwfL2b"
      }
    },
    {
      "cell_type": "code",
      "source": [
        "# Para criar a coluna de gasto diário médio usei a coluna GastoMensal dividido por 30 dias\n",
        "df_telco_customer = df_telco_customer.assign(GastoDiarioMedio = df_telco_customer['GastoMensal']/30)\n",
        "df_telco_customer.head(5)"
      ],
      "metadata": {
        "id": "nB036Xc04lNA",
        "colab": {
          "base_uri": "https://localhost:8080/",
          "height": 357
        },
        "outputId": "d11936cf-d3eb-4211-d4f4-3054a3c290a1"
      },
      "execution_count": 36,
      "outputs": [
        {
          "output_type": "execute_result",
          "data": {
            "text/plain": [
              "    IdCliente ClienteCancelado  Genero Maior65 Parceiro(a) Dependentes  \\\n",
              "0  0002-ORFBO               No  Female      No         Yes         Yes   \n",
              "1  0003-MKNFE               No    Male      No          No          No   \n",
              "2  0004-TLHLJ              Yes    Male      No          No          No   \n",
              "3  0011-IGKFF              Yes    Male     Yes         Yes          No   \n",
              "4  0013-EXCHZ              Yes  Female     Yes         Yes          No   \n",
              "\n",
              "   TempoContrato(m) ServiçoTelefônico MultiplasLinhas ServicoInternet  \\\n",
              "0                 9               Yes              No             DSL   \n",
              "1                 9               Yes             Yes             DSL   \n",
              "2                 4               Yes              No     Fiber optic   \n",
              "3                13               Yes              No     Fiber optic   \n",
              "4                 3               Yes              No     Fiber optic   \n",
              "\n",
              "  AdicinalSegurancaOnline AdicionalBackup AdicionalProtDispositivo  \\\n",
              "0                      No             Yes                       No   \n",
              "1                      No              No                       No   \n",
              "2                      No              No                      Yes   \n",
              "3                      No             Yes                      Yes   \n",
              "4                      No              No                       No   \n",
              "\n",
              "  AdicionalSuporte AssinaturaTv AssinaturaFilmes    TipoContrato  \\\n",
              "0              Yes          Yes               No        One year   \n",
              "1               No           No              Yes  Month-to-month   \n",
              "2               No           No               No  Month-to-month   \n",
              "3               No          Yes              Yes  Month-to-month   \n",
              "4              Yes          Yes               No  Month-to-month   \n",
              "\n",
              "  FaturaDigital    FormaPagamento  GastoMensal  GastoTotal  GastoDiarioMedio  \n",
              "0           Yes      Mailed check         65.6      593.30          2.186667  \n",
              "1            No      Mailed check         59.9      542.40          1.996667  \n",
              "2           Yes  Electronic check         73.9      280.85          2.463333  \n",
              "3           Yes  Electronic check         98.0     1237.85          3.266667  \n",
              "4           Yes      Mailed check         83.9      267.40          2.796667  "
            ],
            "text/html": [
              "\n",
              "  <div id=\"df-f392425e-e77e-4b2d-ac13-f9329acae257\">\n",
              "    <div class=\"colab-df-container\">\n",
              "      <div>\n",
              "<style scoped>\n",
              "    .dataframe tbody tr th:only-of-type {\n",
              "        vertical-align: middle;\n",
              "    }\n",
              "\n",
              "    .dataframe tbody tr th {\n",
              "        vertical-align: top;\n",
              "    }\n",
              "\n",
              "    .dataframe thead th {\n",
              "        text-align: right;\n",
              "    }\n",
              "</style>\n",
              "<table border=\"1\" class=\"dataframe\">\n",
              "  <thead>\n",
              "    <tr style=\"text-align: right;\">\n",
              "      <th></th>\n",
              "      <th>IdCliente</th>\n",
              "      <th>ClienteCancelado</th>\n",
              "      <th>Genero</th>\n",
              "      <th>Maior65</th>\n",
              "      <th>Parceiro(a)</th>\n",
              "      <th>Dependentes</th>\n",
              "      <th>TempoContrato(m)</th>\n",
              "      <th>ServiçoTelefônico</th>\n",
              "      <th>MultiplasLinhas</th>\n",
              "      <th>ServicoInternet</th>\n",
              "      <th>AdicinalSegurancaOnline</th>\n",
              "      <th>AdicionalBackup</th>\n",
              "      <th>AdicionalProtDispositivo</th>\n",
              "      <th>AdicionalSuporte</th>\n",
              "      <th>AssinaturaTv</th>\n",
              "      <th>AssinaturaFilmes</th>\n",
              "      <th>TipoContrato</th>\n",
              "      <th>FaturaDigital</th>\n",
              "      <th>FormaPagamento</th>\n",
              "      <th>GastoMensal</th>\n",
              "      <th>GastoTotal</th>\n",
              "      <th>GastoDiarioMedio</th>\n",
              "    </tr>\n",
              "  </thead>\n",
              "  <tbody>\n",
              "    <tr>\n",
              "      <th>0</th>\n",
              "      <td>0002-ORFBO</td>\n",
              "      <td>No</td>\n",
              "      <td>Female</td>\n",
              "      <td>No</td>\n",
              "      <td>Yes</td>\n",
              "      <td>Yes</td>\n",
              "      <td>9</td>\n",
              "      <td>Yes</td>\n",
              "      <td>No</td>\n",
              "      <td>DSL</td>\n",
              "      <td>No</td>\n",
              "      <td>Yes</td>\n",
              "      <td>No</td>\n",
              "      <td>Yes</td>\n",
              "      <td>Yes</td>\n",
              "      <td>No</td>\n",
              "      <td>One year</td>\n",
              "      <td>Yes</td>\n",
              "      <td>Mailed check</td>\n",
              "      <td>65.6</td>\n",
              "      <td>593.30</td>\n",
              "      <td>2.186667</td>\n",
              "    </tr>\n",
              "    <tr>\n",
              "      <th>1</th>\n",
              "      <td>0003-MKNFE</td>\n",
              "      <td>No</td>\n",
              "      <td>Male</td>\n",
              "      <td>No</td>\n",
              "      <td>No</td>\n",
              "      <td>No</td>\n",
              "      <td>9</td>\n",
              "      <td>Yes</td>\n",
              "      <td>Yes</td>\n",
              "      <td>DSL</td>\n",
              "      <td>No</td>\n",
              "      <td>No</td>\n",
              "      <td>No</td>\n",
              "      <td>No</td>\n",
              "      <td>No</td>\n",
              "      <td>Yes</td>\n",
              "      <td>Month-to-month</td>\n",
              "      <td>No</td>\n",
              "      <td>Mailed check</td>\n",
              "      <td>59.9</td>\n",
              "      <td>542.40</td>\n",
              "      <td>1.996667</td>\n",
              "    </tr>\n",
              "    <tr>\n",
              "      <th>2</th>\n",
              "      <td>0004-TLHLJ</td>\n",
              "      <td>Yes</td>\n",
              "      <td>Male</td>\n",
              "      <td>No</td>\n",
              "      <td>No</td>\n",
              "      <td>No</td>\n",
              "      <td>4</td>\n",
              "      <td>Yes</td>\n",
              "      <td>No</td>\n",
              "      <td>Fiber optic</td>\n",
              "      <td>No</td>\n",
              "      <td>No</td>\n",
              "      <td>Yes</td>\n",
              "      <td>No</td>\n",
              "      <td>No</td>\n",
              "      <td>No</td>\n",
              "      <td>Month-to-month</td>\n",
              "      <td>Yes</td>\n",
              "      <td>Electronic check</td>\n",
              "      <td>73.9</td>\n",
              "      <td>280.85</td>\n",
              "      <td>2.463333</td>\n",
              "    </tr>\n",
              "    <tr>\n",
              "      <th>3</th>\n",
              "      <td>0011-IGKFF</td>\n",
              "      <td>Yes</td>\n",
              "      <td>Male</td>\n",
              "      <td>Yes</td>\n",
              "      <td>Yes</td>\n",
              "      <td>No</td>\n",
              "      <td>13</td>\n",
              "      <td>Yes</td>\n",
              "      <td>No</td>\n",
              "      <td>Fiber optic</td>\n",
              "      <td>No</td>\n",
              "      <td>Yes</td>\n",
              "      <td>Yes</td>\n",
              "      <td>No</td>\n",
              "      <td>Yes</td>\n",
              "      <td>Yes</td>\n",
              "      <td>Month-to-month</td>\n",
              "      <td>Yes</td>\n",
              "      <td>Electronic check</td>\n",
              "      <td>98.0</td>\n",
              "      <td>1237.85</td>\n",
              "      <td>3.266667</td>\n",
              "    </tr>\n",
              "    <tr>\n",
              "      <th>4</th>\n",
              "      <td>0013-EXCHZ</td>\n",
              "      <td>Yes</td>\n",
              "      <td>Female</td>\n",
              "      <td>Yes</td>\n",
              "      <td>Yes</td>\n",
              "      <td>No</td>\n",
              "      <td>3</td>\n",
              "      <td>Yes</td>\n",
              "      <td>No</td>\n",
              "      <td>Fiber optic</td>\n",
              "      <td>No</td>\n",
              "      <td>No</td>\n",
              "      <td>No</td>\n",
              "      <td>Yes</td>\n",
              "      <td>Yes</td>\n",
              "      <td>No</td>\n",
              "      <td>Month-to-month</td>\n",
              "      <td>Yes</td>\n",
              "      <td>Mailed check</td>\n",
              "      <td>83.9</td>\n",
              "      <td>267.40</td>\n",
              "      <td>2.796667</td>\n",
              "    </tr>\n",
              "  </tbody>\n",
              "</table>\n",
              "</div>\n",
              "      <button class=\"colab-df-convert\" onclick=\"convertToInteractive('df-f392425e-e77e-4b2d-ac13-f9329acae257')\"\n",
              "              title=\"Convert this dataframe to an interactive table.\"\n",
              "              style=\"display:none;\">\n",
              "        \n",
              "  <svg xmlns=\"http://www.w3.org/2000/svg\" height=\"24px\"viewBox=\"0 0 24 24\"\n",
              "       width=\"24px\">\n",
              "    <path d=\"M0 0h24v24H0V0z\" fill=\"none\"/>\n",
              "    <path d=\"M18.56 5.44l.94 2.06.94-2.06 2.06-.94-2.06-.94-.94-2.06-.94 2.06-2.06.94zm-11 1L8.5 8.5l.94-2.06 2.06-.94-2.06-.94L8.5 2.5l-.94 2.06-2.06.94zm10 10l.94 2.06.94-2.06 2.06-.94-2.06-.94-.94-2.06-.94 2.06-2.06.94z\"/><path d=\"M17.41 7.96l-1.37-1.37c-.4-.4-.92-.59-1.43-.59-.52 0-1.04.2-1.43.59L10.3 9.45l-7.72 7.72c-.78.78-.78 2.05 0 2.83L4 21.41c.39.39.9.59 1.41.59.51 0 1.02-.2 1.41-.59l7.78-7.78 2.81-2.81c.8-.78.8-2.07 0-2.86zM5.41 20L4 18.59l7.72-7.72 1.47 1.35L5.41 20z\"/>\n",
              "  </svg>\n",
              "      </button>\n",
              "      \n",
              "  <style>\n",
              "    .colab-df-container {\n",
              "      display:flex;\n",
              "      flex-wrap:wrap;\n",
              "      gap: 12px;\n",
              "    }\n",
              "\n",
              "    .colab-df-convert {\n",
              "      background-color: #E8F0FE;\n",
              "      border: none;\n",
              "      border-radius: 50%;\n",
              "      cursor: pointer;\n",
              "      display: none;\n",
              "      fill: #1967D2;\n",
              "      height: 32px;\n",
              "      padding: 0 0 0 0;\n",
              "      width: 32px;\n",
              "    }\n",
              "\n",
              "    .colab-df-convert:hover {\n",
              "      background-color: #E2EBFA;\n",
              "      box-shadow: 0px 1px 2px rgba(60, 64, 67, 0.3), 0px 1px 3px 1px rgba(60, 64, 67, 0.15);\n",
              "      fill: #174EA6;\n",
              "    }\n",
              "\n",
              "    [theme=dark] .colab-df-convert {\n",
              "      background-color: #3B4455;\n",
              "      fill: #D2E3FC;\n",
              "    }\n",
              "\n",
              "    [theme=dark] .colab-df-convert:hover {\n",
              "      background-color: #434B5C;\n",
              "      box-shadow: 0px 1px 3px 1px rgba(0, 0, 0, 0.15);\n",
              "      filter: drop-shadow(0px 1px 2px rgba(0, 0, 0, 0.3));\n",
              "      fill: #FFFFFF;\n",
              "    }\n",
              "  </style>\n",
              "\n",
              "      <script>\n",
              "        const buttonEl =\n",
              "          document.querySelector('#df-f392425e-e77e-4b2d-ac13-f9329acae257 button.colab-df-convert');\n",
              "        buttonEl.style.display =\n",
              "          google.colab.kernel.accessAllowed ? 'block' : 'none';\n",
              "\n",
              "        async function convertToInteractive(key) {\n",
              "          const element = document.querySelector('#df-f392425e-e77e-4b2d-ac13-f9329acae257');\n",
              "          const dataTable =\n",
              "            await google.colab.kernel.invokeFunction('convertToInteractive',\n",
              "                                                     [key], {});\n",
              "          if (!dataTable) return;\n",
              "\n",
              "          const docLinkHtml = 'Like what you see? Visit the ' +\n",
              "            '<a target=\"_blank\" href=https://colab.research.google.com/notebooks/data_table.ipynb>data table notebook</a>'\n",
              "            + ' to learn more about interactive tables.';\n",
              "          element.innerHTML = '';\n",
              "          dataTable['output_type'] = 'display_data';\n",
              "          await google.colab.output.renderOutput(dataTable, element);\n",
              "          const docLink = document.createElement('div');\n",
              "          docLink.innerHTML = docLinkHtml;\n",
              "          element.appendChild(docLink);\n",
              "        }\n",
              "      </script>\n",
              "    </div>\n",
              "  </div>\n",
              "  "
            ]
          },
          "metadata": {},
          "execution_count": 36
        }
      ]
    },
    {
      "cell_type": "code",
      "source": [
        "df_telco_customer.info()"
      ],
      "metadata": {
        "colab": {
          "base_uri": "https://localhost:8080/"
        },
        "id": "GeVFUmYu3Y6r",
        "outputId": "4758a196-7e50-45c0-cf27-b01be3783a3c"
      },
      "execution_count": 35,
      "outputs": [
        {
          "output_type": "stream",
          "name": "stdout",
          "text": [
            "<class 'pandas.core.frame.DataFrame'>\n",
            "Int64Index: 7043 entries, 0 to 7266\n",
            "Data columns (total 21 columns):\n",
            " #   Column                    Non-Null Count  Dtype  \n",
            "---  ------                    --------------  -----  \n",
            " 0   IdCliente                 7043 non-null   object \n",
            " 1   ClienteCancelado          7043 non-null   object \n",
            " 2   Genero                    7043 non-null   object \n",
            " 3   Maior65                   7043 non-null   object \n",
            " 4   Parceiro(a)               7043 non-null   object \n",
            " 5   Dependentes               7043 non-null   object \n",
            " 6   TempoContrato(m)          7043 non-null   int64  \n",
            " 7   ServiçoTelefônico         7043 non-null   object \n",
            " 8   MultiplasLinhas           7043 non-null   object \n",
            " 9   ServicoInternet           7043 non-null   object \n",
            " 10  AdicinalSegurancaOnline   7043 non-null   object \n",
            " 11  AdicionalBackup           7043 non-null   object \n",
            " 12  AdicionalProtDispositivo  7043 non-null   object \n",
            " 13  AdicionalSuporte          7043 non-null   object \n",
            " 14  AssinaturaTv              7043 non-null   object \n",
            " 15  AssinaturaFilmes          7043 non-null   object \n",
            " 16  TipoContrato              7043 non-null   object \n",
            " 17  FaturaDigital             7043 non-null   object \n",
            " 18  FormaPagamento            7043 non-null   object \n",
            " 19  GastoMensal               7043 non-null   float64\n",
            " 20  GastoTotal                7043 non-null   float64\n",
            "dtypes: float64(2), int64(1), object(18)\n",
            "memory usage: 1.2+ MB\n"
          ]
        }
      ]
    }
  ]
}